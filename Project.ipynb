{
 "cells": [
  {
   "cell_type": "markdown",
   "id": "2b2179e2",
   "metadata": {},
   "source": [
    "# Importing necessary libraries"
   ]
  },
  {
   "cell_type": "code",
   "execution_count": null,
   "id": "e57e79da",
   "metadata": {},
   "outputs": [],
   "source": []
  },
  {
   "cell_type": "code",
   "execution_count": 1,
   "id": "8d6487f8",
   "metadata": {},
   "outputs": [],
   "source": [
    "import pandas as pd"
   ]
  },
  {
   "cell_type": "markdown",
   "id": "829c3868",
   "metadata": {},
   "source": [
    "# Importing the data"
   ]
  },
  {
   "cell_type": "code",
   "execution_count": 4,
   "id": "1d1141a1",
   "metadata": {},
   "outputs": [
    {
     "name": "stderr",
     "output_type": "stream",
     "text": [
      "C:\\Users\\user\\AppData\\Local\\Temp\\ipykernel_19304\\398720578.py:1: DtypeWarning: Columns (6,7,28) have mixed types. Specify dtype option on import or set low_memory=False.\n",
      "  dataset = pd.read_csv(r\"C:\\Users\\user\\Desktop\\KNBS\\AviationData.csv\\AviationData.csv\", encoding='ISO-8859-1')\n"
     ]
    }
   ],
   "source": [
    "dataset = pd.read_csv(r\"C:\\Users\\user\\Desktop\\KNBS\\AviationData.csv\\AviationData.csv\", encoding='ISO-8859-1')\n"
   ]
  },
  {
   "cell_type": "markdown",
   "id": "285dd463",
   "metadata": {},
   "source": [
    "# Selecting columns to keep"
   ]
  },
  {
   "cell_type": "code",
   "execution_count": 5,
   "id": "180774b6",
   "metadata": {},
   "outputs": [
    {
     "name": "stdout",
     "output_type": "stream",
     "text": [
      "['Broad.phase.of.flight', 'Total.Uninjured', 'Total.Minor.Injuries', 'Total.Serious.Injuries', 'Total.Fatal.Injuries', 'Purpose.of.flight', 'Make', 'Aircraft.Category', 'Aircraft.damage', 'Injury.Severity']\n"
     ]
    }
   ],
   "source": [
    "columns_to_keep = ['Broad.phase.of.flight','Total.Uninjured','Total.Minor.Injuries','Total.Serious.Injuries','Total.Fatal.Injuries','Purpose.of.flight','Make','Aircraft.Category','Aircraft.damage','Injury.Severity']\n",
    "dataset = dataset[columns_to_keep]\n",
    "print(columns_to_keep)"
   ]
  },
  {
   "cell_type": "markdown",
   "id": "5dbe0948",
   "metadata": {},
   "source": [
    "# Clearing null values"
   ]
  },
  {
   "cell_type": "code",
   "execution_count": null,
   "id": "0f56b0b8",
   "metadata": {},
   "outputs": [],
   "source": [
    "dataset = dataset.dropna()"
   ]
  },
  {
   "cell_type": "code",
   "execution_count": null,
   "id": "c7902d93",
   "metadata": {},
   "outputs": [],
   "source": [
    "dataset.to_csv(r\"C:\\Users\\user\\Desktop\\KNBS\\AviationData.csv\\AviationData1.csv\",index=False)"
   ]
  },
  {
   "cell_type": "markdown",
   "id": "3bc28375",
   "metadata": {},
   "source": [
    "# Descriptive statistics"
   ]
  },
  {
   "cell_type": "code",
   "execution_count": 7,
   "id": "43a33476",
   "metadata": {},
   "outputs": [
    {
     "data": {
      "application/vnd.microsoft.datawrangler.viewer.v0+json": {
       "columns": [
        {
         "name": "index",
         "rawType": "object",
         "type": "string"
        },
        {
         "name": "Total.Uninjured",
         "rawType": "float64",
         "type": "float"
        },
        {
         "name": "Total.Minor.Injuries",
         "rawType": "float64",
         "type": "float"
        },
        {
         "name": "Total.Serious.Injuries",
         "rawType": "float64",
         "type": "float"
        },
        {
         "name": "Total.Fatal.Injuries",
         "rawType": "float64",
         "type": "float"
        }
       ],
       "conversionMethod": "pd.DataFrame",
       "ref": "8dbdb8cf-48a0-4991-8524-e46a4b35d4e9",
       "rows": [
        [
         "count",
         "3604.0",
         "3604.0",
         "3604.0",
         "3604.0"
        ],
        [
         "mean",
         "1.907325194228635",
         "0.2741398446170921",
         "0.19894561598224195",
         "0.4012208657047725"
        ],
        [
         "std",
         "10.473378575630413",
         "1.081619173765674",
         "0.644874751621691",
         "1.1005303175251873"
        ],
        [
         "min",
         "0.0",
         "0.0",
         "0.0",
         "0.0"
        ],
        [
         "25%",
         "0.0",
         "0.0",
         "0.0",
         "0.0"
        ],
        [
         "50%",
         "1.0",
         "0.0",
         "0.0",
         "0.0"
        ],
        [
         "75%",
         "2.0",
         "0.0",
         "0.0",
         "0.0"
        ],
        [
         "max",
         "393.0",
         "33.0",
         "10.0",
         "27.0"
        ]
       ],
       "shape": {
        "columns": 4,
        "rows": 8
       }
      },
      "text/html": [
       "<div>\n",
       "<style scoped>\n",
       "    .dataframe tbody tr th:only-of-type {\n",
       "        vertical-align: middle;\n",
       "    }\n",
       "\n",
       "    .dataframe tbody tr th {\n",
       "        vertical-align: top;\n",
       "    }\n",
       "\n",
       "    .dataframe thead th {\n",
       "        text-align: right;\n",
       "    }\n",
       "</style>\n",
       "<table border=\"1\" class=\"dataframe\">\n",
       "  <thead>\n",
       "    <tr style=\"text-align: right;\">\n",
       "      <th></th>\n",
       "      <th>Total.Uninjured</th>\n",
       "      <th>Total.Minor.Injuries</th>\n",
       "      <th>Total.Serious.Injuries</th>\n",
       "      <th>Total.Fatal.Injuries</th>\n",
       "    </tr>\n",
       "  </thead>\n",
       "  <tbody>\n",
       "    <tr>\n",
       "      <th>count</th>\n",
       "      <td>3604.000000</td>\n",
       "      <td>3604.000000</td>\n",
       "      <td>3604.000000</td>\n",
       "      <td>3604.000000</td>\n",
       "    </tr>\n",
       "    <tr>\n",
       "      <th>mean</th>\n",
       "      <td>1.907325</td>\n",
       "      <td>0.274140</td>\n",
       "      <td>0.198946</td>\n",
       "      <td>0.401221</td>\n",
       "    </tr>\n",
       "    <tr>\n",
       "      <th>std</th>\n",
       "      <td>10.473379</td>\n",
       "      <td>1.081619</td>\n",
       "      <td>0.644875</td>\n",
       "      <td>1.100530</td>\n",
       "    </tr>\n",
       "    <tr>\n",
       "      <th>min</th>\n",
       "      <td>0.000000</td>\n",
       "      <td>0.000000</td>\n",
       "      <td>0.000000</td>\n",
       "      <td>0.000000</td>\n",
       "    </tr>\n",
       "    <tr>\n",
       "      <th>25%</th>\n",
       "      <td>0.000000</td>\n",
       "      <td>0.000000</td>\n",
       "      <td>0.000000</td>\n",
       "      <td>0.000000</td>\n",
       "    </tr>\n",
       "    <tr>\n",
       "      <th>50%</th>\n",
       "      <td>1.000000</td>\n",
       "      <td>0.000000</td>\n",
       "      <td>0.000000</td>\n",
       "      <td>0.000000</td>\n",
       "    </tr>\n",
       "    <tr>\n",
       "      <th>75%</th>\n",
       "      <td>2.000000</td>\n",
       "      <td>0.000000</td>\n",
       "      <td>0.000000</td>\n",
       "      <td>0.000000</td>\n",
       "    </tr>\n",
       "    <tr>\n",
       "      <th>max</th>\n",
       "      <td>393.000000</td>\n",
       "      <td>33.000000</td>\n",
       "      <td>10.000000</td>\n",
       "      <td>27.000000</td>\n",
       "    </tr>\n",
       "  </tbody>\n",
       "</table>\n",
       "</div>"
      ],
      "text/plain": [
       "       Total.Uninjured  Total.Minor.Injuries  Total.Serious.Injuries  \\\n",
       "count      3604.000000           3604.000000             3604.000000   \n",
       "mean          1.907325              0.274140                0.198946   \n",
       "std          10.473379              1.081619                0.644875   \n",
       "min           0.000000              0.000000                0.000000   \n",
       "25%           0.000000              0.000000                0.000000   \n",
       "50%           1.000000              0.000000                0.000000   \n",
       "75%           2.000000              0.000000                0.000000   \n",
       "max         393.000000             33.000000               10.000000   \n",
       "\n",
       "       Total.Fatal.Injuries  \n",
       "count           3604.000000  \n",
       "mean               0.401221  \n",
       "std                1.100530  \n",
       "min                0.000000  \n",
       "25%                0.000000  \n",
       "50%                0.000000  \n",
       "75%                0.000000  \n",
       "max               27.000000  "
      ]
     },
     "execution_count": 7,
     "metadata": {},
     "output_type": "execute_result"
    }
   ],
   "source": [
    "dataset.describe()"
   ]
  },
  {
   "cell_type": "markdown",
   "id": "df3f8d4d",
   "metadata": {},
   "source": [
    "# Aircracft category vs Aircraft damage"
   ]
  },
  {
   "cell_type": "code",
   "execution_count": 8,
   "id": "53c5c8ff",
   "metadata": {},
   "outputs": [
    {
     "data": {
      "application/vnd.microsoft.datawrangler.viewer.v0+json": {
       "columns": [
        {
         "name": "Aircraft.Category",
         "rawType": "object",
         "type": "string"
        },
        {
         "name": "Destroyed",
         "rawType": "int64",
         "type": "integer"
        },
        {
         "name": "Minor",
         "rawType": "int64",
         "type": "integer"
        },
        {
         "name": "Substantial",
         "rawType": "int64",
         "type": "integer"
        }
       ],
       "conversionMethod": "pd.DataFrame",
       "ref": "7a75805a-d17b-4d64-89b6-af467be78eec",
       "rows": [
        [
         "Airplane",
         "931",
         "111",
         "2150"
        ],
        [
         "Balloon",
         "4",
         "5",
         "14"
        ],
        [
         "Glider",
         "13",
         "1",
         "39"
        ],
        [
         "Gyrocraft",
         "9",
         "0",
         "7"
        ],
        [
         "Helicopter",
         "103",
         "7",
         "208"
        ],
        [
         "Ultralight",
         "1",
         "0",
         "0"
        ],
        [
         "Unknown",
         "1",
         "0",
         "0"
        ]
       ],
       "shape": {
        "columns": 3,
        "rows": 7
       }
      },
      "text/html": [
       "<div>\n",
       "<style scoped>\n",
       "    .dataframe tbody tr th:only-of-type {\n",
       "        vertical-align: middle;\n",
       "    }\n",
       "\n",
       "    .dataframe tbody tr th {\n",
       "        vertical-align: top;\n",
       "    }\n",
       "\n",
       "    .dataframe thead th {\n",
       "        text-align: right;\n",
       "    }\n",
       "</style>\n",
       "<table border=\"1\" class=\"dataframe\">\n",
       "  <thead>\n",
       "    <tr style=\"text-align: right;\">\n",
       "      <th>Aircraft.damage</th>\n",
       "      <th>Destroyed</th>\n",
       "      <th>Minor</th>\n",
       "      <th>Substantial</th>\n",
       "    </tr>\n",
       "    <tr>\n",
       "      <th>Aircraft.Category</th>\n",
       "      <th></th>\n",
       "      <th></th>\n",
       "      <th></th>\n",
       "    </tr>\n",
       "  </thead>\n",
       "  <tbody>\n",
       "    <tr>\n",
       "      <th>Airplane</th>\n",
       "      <td>931</td>\n",
       "      <td>111</td>\n",
       "      <td>2150</td>\n",
       "    </tr>\n",
       "    <tr>\n",
       "      <th>Balloon</th>\n",
       "      <td>4</td>\n",
       "      <td>5</td>\n",
       "      <td>14</td>\n",
       "    </tr>\n",
       "    <tr>\n",
       "      <th>Glider</th>\n",
       "      <td>13</td>\n",
       "      <td>1</td>\n",
       "      <td>39</td>\n",
       "    </tr>\n",
       "    <tr>\n",
       "      <th>Gyrocraft</th>\n",
       "      <td>9</td>\n",
       "      <td>0</td>\n",
       "      <td>7</td>\n",
       "    </tr>\n",
       "    <tr>\n",
       "      <th>Helicopter</th>\n",
       "      <td>103</td>\n",
       "      <td>7</td>\n",
       "      <td>208</td>\n",
       "    </tr>\n",
       "    <tr>\n",
       "      <th>Ultralight</th>\n",
       "      <td>1</td>\n",
       "      <td>0</td>\n",
       "      <td>0</td>\n",
       "    </tr>\n",
       "    <tr>\n",
       "      <th>Unknown</th>\n",
       "      <td>1</td>\n",
       "      <td>0</td>\n",
       "      <td>0</td>\n",
       "    </tr>\n",
       "  </tbody>\n",
       "</table>\n",
       "</div>"
      ],
      "text/plain": [
       "Aircraft.damage    Destroyed  Minor  Substantial\n",
       "Aircraft.Category                               \n",
       "Airplane                 931    111         2150\n",
       "Balloon                    4      5           14\n",
       "Glider                    13      1           39\n",
       "Gyrocraft                  9      0            7\n",
       "Helicopter               103      7          208\n",
       "Ultralight                 1      0            0\n",
       "Unknown                    1      0            0"
      ]
     },
     "execution_count": 8,
     "metadata": {},
     "output_type": "execute_result"
    }
   ],
   "source": [
    "pd.crosstab(dataset['Aircraft.Category'],dataset['Aircraft.damage'])"
   ]
  },
  {
   "cell_type": "markdown",
   "id": "27527743",
   "metadata": {},
   "source": [
    "# Broad.phase of flight vs Injury.Severity"
   ]
  },
  {
   "cell_type": "code",
   "execution_count": 9,
   "id": "b3dffe31",
   "metadata": {},
   "outputs": [
    {
     "data": {
      "application/vnd.microsoft.datawrangler.viewer.v0+json": {
       "columns": [
        {
         "name": "Broad.phase.of.flight",
         "rawType": "object",
         "type": "string"
        },
        {
         "name": "Fatal(1)",
         "rawType": "int64",
         "type": "integer"
        },
        {
         "name": "Fatal(12)",
         "rawType": "int64",
         "type": "integer"
        },
        {
         "name": "Fatal(2)",
         "rawType": "int64",
         "type": "integer"
        },
        {
         "name": "Fatal(27)",
         "rawType": "int64",
         "type": "integer"
        },
        {
         "name": "Fatal(3)",
         "rawType": "int64",
         "type": "integer"
        },
        {
         "name": "Fatal(4)",
         "rawType": "int64",
         "type": "integer"
        },
        {
         "name": "Fatal(5)",
         "rawType": "int64",
         "type": "integer"
        },
        {
         "name": "Fatal(6)",
         "rawType": "int64",
         "type": "integer"
        },
        {
         "name": "Fatal(7)",
         "rawType": "int64",
         "type": "integer"
        },
        {
         "name": "Fatal(8)",
         "rawType": "int64",
         "type": "integer"
        },
        {
         "name": "Incident",
         "rawType": "int64",
         "type": "integer"
        },
        {
         "name": "Non-Fatal",
         "rawType": "int64",
         "type": "integer"
        }
       ],
       "conversionMethod": "pd.DataFrame",
       "ref": "6f75aa7e-7f9c-4627-989a-c9d3eaa200b5",
       "rows": [
        [
         "Approach",
         "45",
         "0",
         "26",
         "0",
         "9",
         "6",
         "2",
         "1",
         "1",
         "2",
         "13",
         "289"
        ],
        [
         "Climb",
         "9",
         "0",
         "8",
         "0",
         "6",
         "2",
         "3",
         "1",
         "0",
         "0",
         "5",
         "58"
        ],
        [
         "Cruise",
         "66",
         "0",
         "66",
         "0",
         "35",
         "26",
         "1",
         "6",
         "2",
         "2",
         "16",
         "400"
        ],
        [
         "Descent",
         "14",
         "0",
         "5",
         "0",
         "4",
         "1",
         "0",
         "0",
         "0",
         "0",
         "4",
         "69"
        ],
        [
         "Go-around",
         "4",
         "0",
         "3",
         "0",
         "1",
         "3",
         "2",
         "0",
         "0",
         "0",
         "2",
         "42"
        ],
        [
         "Landing",
         "10",
         "0",
         "5",
         "0",
         "0",
         "2",
         "0",
         "0",
         "0",
         "0",
         "19",
         "897"
        ],
        [
         "Maneuvering",
         "92",
         "0",
         "48",
         "0",
         "16",
         "2",
         "2",
         "1",
         "0",
         "1",
         "5",
         "266"
        ],
        [
         "Other",
         "1",
         "0",
         "3",
         "0",
         "2",
         "0",
         "0",
         "0",
         "0",
         "0",
         "1",
         "5"
        ],
        [
         "Standing",
         "4",
         "0",
         "0",
         "0",
         "0",
         "0",
         "0",
         "0",
         "0",
         "0",
         "1",
         "20"
        ],
        [
         "Takeoff",
         "55",
         "1",
         "31",
         "1",
         "9",
         "8",
         "1",
         "1",
         "0",
         "2",
         "21",
         "631"
        ],
        [
         "Taxi",
         "1",
         "0",
         "0",
         "0",
         "0",
         "0",
         "0",
         "0",
         "0",
         "0",
         "9",
         "118"
        ],
        [
         "Unknown",
         "15",
         "0",
         "17",
         "0",
         "3",
         "3",
         "0",
         "0",
         "0",
         "1",
         "0",
         "13"
        ]
       ],
       "shape": {
        "columns": 12,
        "rows": 12
       }
      },
      "text/html": [
       "<div>\n",
       "<style scoped>\n",
       "    .dataframe tbody tr th:only-of-type {\n",
       "        vertical-align: middle;\n",
       "    }\n",
       "\n",
       "    .dataframe tbody tr th {\n",
       "        vertical-align: top;\n",
       "    }\n",
       "\n",
       "    .dataframe thead th {\n",
       "        text-align: right;\n",
       "    }\n",
       "</style>\n",
       "<table border=\"1\" class=\"dataframe\">\n",
       "  <thead>\n",
       "    <tr style=\"text-align: right;\">\n",
       "      <th>Injury.Severity</th>\n",
       "      <th>Fatal(1)</th>\n",
       "      <th>Fatal(12)</th>\n",
       "      <th>Fatal(2)</th>\n",
       "      <th>Fatal(27)</th>\n",
       "      <th>Fatal(3)</th>\n",
       "      <th>Fatal(4)</th>\n",
       "      <th>Fatal(5)</th>\n",
       "      <th>Fatal(6)</th>\n",
       "      <th>Fatal(7)</th>\n",
       "      <th>Fatal(8)</th>\n",
       "      <th>Incident</th>\n",
       "      <th>Non-Fatal</th>\n",
       "    </tr>\n",
       "    <tr>\n",
       "      <th>Broad.phase.of.flight</th>\n",
       "      <th></th>\n",
       "      <th></th>\n",
       "      <th></th>\n",
       "      <th></th>\n",
       "      <th></th>\n",
       "      <th></th>\n",
       "      <th></th>\n",
       "      <th></th>\n",
       "      <th></th>\n",
       "      <th></th>\n",
       "      <th></th>\n",
       "      <th></th>\n",
       "    </tr>\n",
       "  </thead>\n",
       "  <tbody>\n",
       "    <tr>\n",
       "      <th>Approach</th>\n",
       "      <td>45</td>\n",
       "      <td>0</td>\n",
       "      <td>26</td>\n",
       "      <td>0</td>\n",
       "      <td>9</td>\n",
       "      <td>6</td>\n",
       "      <td>2</td>\n",
       "      <td>1</td>\n",
       "      <td>1</td>\n",
       "      <td>2</td>\n",
       "      <td>13</td>\n",
       "      <td>289</td>\n",
       "    </tr>\n",
       "    <tr>\n",
       "      <th>Climb</th>\n",
       "      <td>9</td>\n",
       "      <td>0</td>\n",
       "      <td>8</td>\n",
       "      <td>0</td>\n",
       "      <td>6</td>\n",
       "      <td>2</td>\n",
       "      <td>3</td>\n",
       "      <td>1</td>\n",
       "      <td>0</td>\n",
       "      <td>0</td>\n",
       "      <td>5</td>\n",
       "      <td>58</td>\n",
       "    </tr>\n",
       "    <tr>\n",
       "      <th>Cruise</th>\n",
       "      <td>66</td>\n",
       "      <td>0</td>\n",
       "      <td>66</td>\n",
       "      <td>0</td>\n",
       "      <td>35</td>\n",
       "      <td>26</td>\n",
       "      <td>1</td>\n",
       "      <td>6</td>\n",
       "      <td>2</td>\n",
       "      <td>2</td>\n",
       "      <td>16</td>\n",
       "      <td>400</td>\n",
       "    </tr>\n",
       "    <tr>\n",
       "      <th>Descent</th>\n",
       "      <td>14</td>\n",
       "      <td>0</td>\n",
       "      <td>5</td>\n",
       "      <td>0</td>\n",
       "      <td>4</td>\n",
       "      <td>1</td>\n",
       "      <td>0</td>\n",
       "      <td>0</td>\n",
       "      <td>0</td>\n",
       "      <td>0</td>\n",
       "      <td>4</td>\n",
       "      <td>69</td>\n",
       "    </tr>\n",
       "    <tr>\n",
       "      <th>Go-around</th>\n",
       "      <td>4</td>\n",
       "      <td>0</td>\n",
       "      <td>3</td>\n",
       "      <td>0</td>\n",
       "      <td>1</td>\n",
       "      <td>3</td>\n",
       "      <td>2</td>\n",
       "      <td>0</td>\n",
       "      <td>0</td>\n",
       "      <td>0</td>\n",
       "      <td>2</td>\n",
       "      <td>42</td>\n",
       "    </tr>\n",
       "    <tr>\n",
       "      <th>Landing</th>\n",
       "      <td>10</td>\n",
       "      <td>0</td>\n",
       "      <td>5</td>\n",
       "      <td>0</td>\n",
       "      <td>0</td>\n",
       "      <td>2</td>\n",
       "      <td>0</td>\n",
       "      <td>0</td>\n",
       "      <td>0</td>\n",
       "      <td>0</td>\n",
       "      <td>19</td>\n",
       "      <td>897</td>\n",
       "    </tr>\n",
       "    <tr>\n",
       "      <th>Maneuvering</th>\n",
       "      <td>92</td>\n",
       "      <td>0</td>\n",
       "      <td>48</td>\n",
       "      <td>0</td>\n",
       "      <td>16</td>\n",
       "      <td>2</td>\n",
       "      <td>2</td>\n",
       "      <td>1</td>\n",
       "      <td>0</td>\n",
       "      <td>1</td>\n",
       "      <td>5</td>\n",
       "      <td>266</td>\n",
       "    </tr>\n",
       "    <tr>\n",
       "      <th>Other</th>\n",
       "      <td>1</td>\n",
       "      <td>0</td>\n",
       "      <td>3</td>\n",
       "      <td>0</td>\n",
       "      <td>2</td>\n",
       "      <td>0</td>\n",
       "      <td>0</td>\n",
       "      <td>0</td>\n",
       "      <td>0</td>\n",
       "      <td>0</td>\n",
       "      <td>1</td>\n",
       "      <td>5</td>\n",
       "    </tr>\n",
       "    <tr>\n",
       "      <th>Standing</th>\n",
       "      <td>4</td>\n",
       "      <td>0</td>\n",
       "      <td>0</td>\n",
       "      <td>0</td>\n",
       "      <td>0</td>\n",
       "      <td>0</td>\n",
       "      <td>0</td>\n",
       "      <td>0</td>\n",
       "      <td>0</td>\n",
       "      <td>0</td>\n",
       "      <td>1</td>\n",
       "      <td>20</td>\n",
       "    </tr>\n",
       "    <tr>\n",
       "      <th>Takeoff</th>\n",
       "      <td>55</td>\n",
       "      <td>1</td>\n",
       "      <td>31</td>\n",
       "      <td>1</td>\n",
       "      <td>9</td>\n",
       "      <td>8</td>\n",
       "      <td>1</td>\n",
       "      <td>1</td>\n",
       "      <td>0</td>\n",
       "      <td>2</td>\n",
       "      <td>21</td>\n",
       "      <td>631</td>\n",
       "    </tr>\n",
       "    <tr>\n",
       "      <th>Taxi</th>\n",
       "      <td>1</td>\n",
       "      <td>0</td>\n",
       "      <td>0</td>\n",
       "      <td>0</td>\n",
       "      <td>0</td>\n",
       "      <td>0</td>\n",
       "      <td>0</td>\n",
       "      <td>0</td>\n",
       "      <td>0</td>\n",
       "      <td>0</td>\n",
       "      <td>9</td>\n",
       "      <td>118</td>\n",
       "    </tr>\n",
       "    <tr>\n",
       "      <th>Unknown</th>\n",
       "      <td>15</td>\n",
       "      <td>0</td>\n",
       "      <td>17</td>\n",
       "      <td>0</td>\n",
       "      <td>3</td>\n",
       "      <td>3</td>\n",
       "      <td>0</td>\n",
       "      <td>0</td>\n",
       "      <td>0</td>\n",
       "      <td>1</td>\n",
       "      <td>0</td>\n",
       "      <td>13</td>\n",
       "    </tr>\n",
       "  </tbody>\n",
       "</table>\n",
       "</div>"
      ],
      "text/plain": [
       "Injury.Severity        Fatal(1)  Fatal(12)  Fatal(2)  Fatal(27)  Fatal(3)  \\\n",
       "Broad.phase.of.flight                                                       \n",
       "Approach                     45          0        26          0         9   \n",
       "Climb                         9          0         8          0         6   \n",
       "Cruise                       66          0        66          0        35   \n",
       "Descent                      14          0         5          0         4   \n",
       "Go-around                     4          0         3          0         1   \n",
       "Landing                      10          0         5          0         0   \n",
       "Maneuvering                  92          0        48          0        16   \n",
       "Other                         1          0         3          0         2   \n",
       "Standing                      4          0         0          0         0   \n",
       "Takeoff                      55          1        31          1         9   \n",
       "Taxi                          1          0         0          0         0   \n",
       "Unknown                      15          0        17          0         3   \n",
       "\n",
       "Injury.Severity        Fatal(4)  Fatal(5)  Fatal(6)  Fatal(7)  Fatal(8)  \\\n",
       "Broad.phase.of.flight                                                     \n",
       "Approach                      6         2         1         1         2   \n",
       "Climb                         2         3         1         0         0   \n",
       "Cruise                       26         1         6         2         2   \n",
       "Descent                       1         0         0         0         0   \n",
       "Go-around                     3         2         0         0         0   \n",
       "Landing                       2         0         0         0         0   \n",
       "Maneuvering                   2         2         1         0         1   \n",
       "Other                         0         0         0         0         0   \n",
       "Standing                      0         0         0         0         0   \n",
       "Takeoff                       8         1         1         0         2   \n",
       "Taxi                          0         0         0         0         0   \n",
       "Unknown                       3         0         0         0         1   \n",
       "\n",
       "Injury.Severity        Incident  Non-Fatal  \n",
       "Broad.phase.of.flight                       \n",
       "Approach                     13        289  \n",
       "Climb                         5         58  \n",
       "Cruise                       16        400  \n",
       "Descent                       4         69  \n",
       "Go-around                     2         42  \n",
       "Landing                      19        897  \n",
       "Maneuvering                   5        266  \n",
       "Other                         1          5  \n",
       "Standing                      1         20  \n",
       "Takeoff                      21        631  \n",
       "Taxi                          9        118  \n",
       "Unknown                       0         13  "
      ]
     },
     "execution_count": 9,
     "metadata": {},
     "output_type": "execute_result"
    }
   ],
   "source": [
    "pd.crosstab(dataset['Broad.phase.of.flight'],dataset['Injury.Severity'])"
   ]
  },
  {
   "cell_type": "markdown",
   "id": "ac2425cb",
   "metadata": {},
   "source": [
    "# Total Fatal Injuries vs Make\n",
    "Trying to understand which aircraft make poses the greatest risk of fatal injuries"
   ]
  },
  {
   "cell_type": "code",
   "execution_count": null,
   "id": "e81791f3",
   "metadata": {},
   "outputs": [
    {
     "data": {
      "text/plain": [
       "Make\n",
       "Adams                   0.000000\n",
       "Aero Commander          0.411765\n",
       "Aeronca                 0.448276\n",
       "Aeronca Champ           0.000000\n",
       "Aeronca Champion        0.000000\n",
       "                          ...   \n",
       "Weatherly               0.000000\n",
       "Wing                    2.000000\n",
       "Wootton, John           1.000000\n",
       "Wrb Associates, Llc.    1.000000\n",
       "Yakovlev                2.000000\n",
       "Name: Total.Fatal.Injuries, Length: 312, dtype: float64"
      ]
     },
     "execution_count": 10,
     "metadata": {},
     "output_type": "execute_result"
    }
   ],
   "source": [
    "dataset.groupby(['Make'])['Total.Fatal.Injuries'].mean()"
   ]
  },
  {
   "cell_type": "markdown",
   "id": "994648d5",
   "metadata": {},
   "source": [
    "#Data Visualization"
   ]
  }
 ],
 "metadata": {
  "kernelspec": {
   "display_name": "Python 3",
   "language": "python",
   "name": "python3"
  },
  "language_info": {
   "codemirror_mode": {
    "name": "ipython",
    "version": 3
   },
   "file_extension": ".py",
   "mimetype": "text/x-python",
   "name": "python",
   "nbconvert_exporter": "python",
   "pygments_lexer": "ipython3",
   "version": "3.13.2"
  }
 },
 "nbformat": 4,
 "nbformat_minor": 5
}
